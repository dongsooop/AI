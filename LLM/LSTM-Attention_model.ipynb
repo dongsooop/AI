{
 "cells": [
  {
   "cell_type": "markdown",
   "id": "65d3db5b",
   "metadata": {},
   "source": [
    "# 데이터 로드 및 확인"
   ]
  },
  {
   "cell_type": "code",
   "execution_count": null,
   "id": "41a55502",
   "metadata": {},
   "outputs": [],
   "source": [
    "import json\n",
    "import re\n",
    "\n",
    "# 전처리 추가 (시스템 태그 삭제)\n",
    "def clean_text(text):\n",
    "    # 시스템 태그 제거\n",
    "    text = re.sub(r\"#@[^#]+#\", \"\", text)\n",
    "    # 중복된 기호, 공백 정리\n",
    "    text = re.sub(r\"[!@#\\$%^&*\\(\\)\\[\\]_+=<>?/|\\\\~`\\\"';:]{2,}\", \"\", text)\n",
    "    text = re.sub(r\"\\s+\", \" \", text)\n",
    "    return text.strip()\n",
    "\n",
    "\n",
    "def preprocess_dialogues(json_path, save_path=None):\n",
    "    import pandas as pd\n",
    "\n",
    "    with open(json_path, 'r', encoding='utf-8') as f:\n",
    "        data = json.load(f)\n",
    "\n",
    "    pairs = []\n",
    "\n",
    "    for dialogue in data['data']:\n",
    "        body = dialogue['body']\n",
    "        body.sort(key=lambda x: (x['turnID'], x['utteranceID']))\n",
    "        \n",
    "        prev_participant = None\n",
    "        prev_text = \"\"\n",
    "        \n",
    "        for utt in body:\n",
    "            pid = utt['participantID']\n",
    "            text = clean_text(utt['utterance'])\n",
    "            \n",
    "            if not text:\n",
    "                continue\n",
    "            \n",
    "            if prev_participant and pid != prev_participant:\n",
    "                # 서로 다른 참여자 간 대화\n",
    "                pairs.append((prev_text, text))\n",
    "            \n",
    "            prev_participant = pid\n",
    "            prev_text = text\n",
    "        \n",
    "\n",
    "    if save_path:\n",
    "        df = pd.DataFrame(pairs, columns=[\"input\", \"response\"])\n",
    "        df.to_csv(save_path, index=False, encoding='utf-8-sig')\n",
    "\n",
    "    return pairs"
   ]
  },
  {
   "cell_type": "code",
   "execution_count": 11,
   "id": "2bc3c182",
   "metadata": {},
   "outputs": [
    {
     "name": "stdout",
     "output_type": "stream",
     "text": [
      "Q: 잉ㅜㅜ\n",
      "A: 돈따스\n",
      "------------------------------\n",
      "Q: 돈따스\n",
      "A: 안보내줫어?\n",
      "------------------------------\n",
      "Q: 이거\n",
      "A: 하 ......ㅡ\n",
      "------------------------------\n",
      "Q: 퀵으로한대서 두시까지오래 ㅋㅋㅋㅋ\n",
      "A: ㅎㅎㅎㅎ오좋겠네\n",
      "------------------------------\n",
      "Q: ㅎㅎㅎㅎ오좋겠네\n",
      "A: 잘잣어ㅋㅋㅋㅋㅋ\n",
      "------------------------------\n"
     ]
    }
   ],
   "source": [
    "# 전처리 실행\n",
    "train_pairs = preprocess_dialogues(\"../data/text_dataset/한국어SNS_train/[라벨]한국어SNS_train/개인및관계.json\", save_path=\"../data/text_dataset/save_path/train_pairs.csv\")\n",
    "valid_pairs = preprocess_dialogues(\"../data/text_dataset/한국어SNS_valid/[라벨]한국어SNS_valid/개인및관계.json\", save_path=\"../data/text_dataset/save_path/valid_pairs.csv\")"
   ]
  },
  {
   "cell_type": "code",
   "execution_count": 13,
   "id": "7190d484",
   "metadata": {},
   "outputs": [
    {
     "name": "stdout",
     "output_type": "stream",
     "text": [
      "Q: 잉ㅜㅜ\n",
      "A: 돈따스\n",
      "------------------------------\n",
      "Q: 돈따스\n",
      "A: 안보내줫어?\n",
      "------------------------------\n",
      "Q: 이거\n",
      "A: 하 ......ㅡ\n",
      "------------------------------\n",
      "Q: 퀵으로한대서 두시까지오래 ㅋㅋㅋㅋ\n",
      "A: ㅎㅎㅎㅎ오좋겠네\n",
      "------------------------------\n",
      "Q: ㅎㅎㅎㅎ오좋겠네\n",
      "A: 잘잣어ㅋㅋㅋㅋㅋ\n",
      "------------------------------\n",
      "Q: 잘잣어ㅋㅋㅋㅋㅋ\n",
      "A: ㅋㄱㅋㄱㄱㄱㄱ아니\n",
      "------------------------------\n",
      "Q: 머거\n",
      "A: 잉\n",
      "------------------------------\n",
      "Q: 내돈가쓰...\n",
      "A: ㅋㄱㄱㄱㄱㄱ맛있어\n",
      "------------------------------\n",
      "Q: 고로케도존맛탱\n",
      "A: 사진찍엇어....\n",
      "------------------------------\n",
      "Q: 사진찍엇어....\n",
      "A: ㅋㄱㄱㄱㅋ\n",
      "------------------------------\n",
      "Q: 학생이면좋구!\n",
      "A: 훔\n",
      "------------------------------\n",
      "Q: 없는데...주변에...\n",
      "A: 왜혼자다니냐고오.....\n",
      "------------------------------\n",
      "Q: 왜혼자다니냐고오.....\n",
      "A: 아니\n",
      "------------------------------\n",
      "Q: 어케 친구가있냐..\n",
      "A: 와 내친군학교나감\n",
      "------------------------------\n",
      "Q: 막졸업한애두굳\n",
      "A: 없다구...\n",
      "------------------------------\n",
      "Q: 너무화난당..\n",
      "A: 흠\n",
      "------------------------------\n",
      "Q: 흠\n",
      "A: 근데오빠는말을또 잘해서 내가화내다보면결국내잘못\n",
      "------------------------------\n",
      "Q: 답답해진짱ㅋㅋ\n",
      "A: 그럴때 억울하지 짖짜\n",
      "------------------------------\n",
      "Q: 오빠도 오늘 회식이야?\n",
      "A: 아니\n",
      "------------------------------\n",
      "Q: 노는중ㅋㅋ\n",
      "A: 아\n",
      "------------------------------\n"
     ]
    }
   ],
   "source": [
    "# 학습 샘플 확인\n",
    "for i in range(20):\n",
    "    print(f\"Q: {train_pairs[i][0]}\")\n",
    "    print(f\"A: {train_pairs[i][1]}\")\n",
    "    print(\"-\" * 30)"
   ]
  },
  {
   "cell_type": "markdown",
   "id": "783834d5",
   "metadata": {},
   "source": [
    "----\n",
    "\n",
    "# "
   ]
  },
  {
   "cell_type": "code",
   "execution_count": null,
   "id": "ae4ba312",
   "metadata": {},
   "outputs": [],
   "source": []
  }
 ],
 "metadata": {
  "kernelspec": {
   "display_name": "Python 3 (ipykernel)",
   "language": "python",
   "name": "python3"
  },
  "language_info": {
   "codemirror_mode": {
    "name": "ipython",
    "version": 3
   },
   "file_extension": ".py",
   "mimetype": "text/x-python",
   "name": "python",
   "nbconvert_exporter": "python",
   "pygments_lexer": "ipython3",
   "version": "3.11.3"
  }
 },
 "nbformat": 4,
 "nbformat_minor": 5
}
