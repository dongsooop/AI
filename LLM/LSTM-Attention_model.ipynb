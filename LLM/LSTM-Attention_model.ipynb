{
 "cells": [
  {
   "cell_type": "code",
   "execution_count": 166,
   "id": "f3f30ad4",
   "metadata": {},
   "outputs": [],
   "source": [
    "# 전체 라이브러리 모아두기\n",
    "import pandas as pd\n",
    "import os\n",
    "import sentencepiece as spm\n",
    "import json\n",
    "import re\n",
    "import glob"
   ]
  },
  {
   "cell_type": "code",
   "execution_count": null,
   "id": "f05bfb16",
   "metadata": {},
   "outputs": [],
   "source": [
    "def clean_text(text):\n",
    "    return re.sub(r'#@\\S+', '', text).strip()"
   ]
  },
  {
   "cell_type": "code",
   "execution_count": 94,
   "id": "ae4ba312",
   "metadata": {},
   "outputs": [],
   "source": [
    "def train_sentencepiece(input_file, model_dir=\"../model/llm_model\", model_name=\"chatbot_spm\", vocab_size=16000):\n",
    "\n",
    "    model_prefix = os.path.join(model_dir, model_name)\n",
    "\n",
    "    spm.SentencePieceTrainer.Train(\n",
    "        f\"--input={input_file} --model_prefix={model_prefix} --vocab_size={vocab_size} \"\n",
    "        \"--model_type=bpe --character_coverage=1.0 --pad_id=0 --unk_id=1 --bos_id=2 --eos_id=3\"\n",
    "    )\n",
    "\n",
    "    print(f\"✅ 모델 저장 완료: {model_prefix}.model\")\n",
    "    print(f\"✅ 단어 사전 저장 완료: {model_prefix}.vocab\")"
   ]
  },
  {
   "cell_type": "code",
   "execution_count": null,
   "id": "cc3b5198",
   "metadata": {},
   "outputs": [
    {
     "ename": "KeyboardInterrupt",
     "evalue": "",
     "output_type": "error",
     "traceback": [
      "\u001b[0;31m---------------------------------------------------------------------------\u001b[0m",
      "\u001b[0;31mKeyboardInterrupt\u001b[0m                         Traceback (most recent call last)",
      "Cell \u001b[0;32mIn[95], line 9\u001b[0m\n\u001b[1;32m      7\u001b[0m \u001b[38;5;66;03m# 예시 사용\u001b[39;00m\n\u001b[1;32m      8\u001b[0m \u001b[38;5;28;01mwith\u001b[39;00m \u001b[38;5;28mopen\u001b[39m(\u001b[38;5;124m\"\u001b[39m\u001b[38;5;124m../data/converted_dataset/train_chatbot_data.json\u001b[39m\u001b[38;5;124m\"\u001b[39m, \u001b[38;5;124m\"\u001b[39m\u001b[38;5;124mr\u001b[39m\u001b[38;5;124m\"\u001b[39m, encoding\u001b[38;5;241m=\u001b[39m\u001b[38;5;124m\"\u001b[39m\u001b[38;5;124mutf-8\u001b[39m\u001b[38;5;124m\"\u001b[39m) \u001b[38;5;28;01mas\u001b[39;00m f:\n\u001b[0;32m----> 9\u001b[0m     data \u001b[38;5;241m=\u001b[39m json\u001b[38;5;241m.\u001b[39mload(f)\n\u001b[1;32m     11\u001b[0m save_for_spm_training(data, \u001b[38;5;124m\"\u001b[39m\u001b[38;5;124m../data/text_dataset/text_for_txt/train.txt\u001b[39m\u001b[38;5;124m\"\u001b[39m)\n",
      "File \u001b[0;32m/opt/anaconda3/envs/dl_study/lib/python3.11/json/__init__.py:293\u001b[0m, in \u001b[0;36mload\u001b[0;34m(fp, cls, object_hook, parse_float, parse_int, parse_constant, object_pairs_hook, **kw)\u001b[0m\n\u001b[1;32m    274\u001b[0m \u001b[38;5;28;01mdef\u001b[39;00m \u001b[38;5;21mload\u001b[39m(fp, \u001b[38;5;241m*\u001b[39m, \u001b[38;5;28mcls\u001b[39m\u001b[38;5;241m=\u001b[39m\u001b[38;5;28;01mNone\u001b[39;00m, object_hook\u001b[38;5;241m=\u001b[39m\u001b[38;5;28;01mNone\u001b[39;00m, parse_float\u001b[38;5;241m=\u001b[39m\u001b[38;5;28;01mNone\u001b[39;00m,\n\u001b[1;32m    275\u001b[0m         parse_int\u001b[38;5;241m=\u001b[39m\u001b[38;5;28;01mNone\u001b[39;00m, parse_constant\u001b[38;5;241m=\u001b[39m\u001b[38;5;28;01mNone\u001b[39;00m, object_pairs_hook\u001b[38;5;241m=\u001b[39m\u001b[38;5;28;01mNone\u001b[39;00m, \u001b[38;5;241m*\u001b[39m\u001b[38;5;241m*\u001b[39mkw):\n\u001b[1;32m    276\u001b[0m \u001b[38;5;250m    \u001b[39m\u001b[38;5;124;03m\"\"\"Deserialize ``fp`` (a ``.read()``-supporting file-like object containing\u001b[39;00m\n\u001b[1;32m    277\u001b[0m \u001b[38;5;124;03m    a JSON document) to a Python object.\u001b[39;00m\n\u001b[1;32m    278\u001b[0m \n\u001b[0;32m   (...)\u001b[0m\n\u001b[1;32m    291\u001b[0m \u001b[38;5;124;03m    kwarg; otherwise ``JSONDecoder`` is used.\u001b[39;00m\n\u001b[1;32m    292\u001b[0m \u001b[38;5;124;03m    \"\"\"\u001b[39;00m\n\u001b[0;32m--> 293\u001b[0m     \u001b[38;5;28;01mreturn\u001b[39;00m loads(fp\u001b[38;5;241m.\u001b[39mread(),\n\u001b[1;32m    294\u001b[0m         \u001b[38;5;28mcls\u001b[39m\u001b[38;5;241m=\u001b[39m\u001b[38;5;28mcls\u001b[39m, object_hook\u001b[38;5;241m=\u001b[39mobject_hook,\n\u001b[1;32m    295\u001b[0m         parse_float\u001b[38;5;241m=\u001b[39mparse_float, parse_int\u001b[38;5;241m=\u001b[39mparse_int,\n\u001b[1;32m    296\u001b[0m         parse_constant\u001b[38;5;241m=\u001b[39mparse_constant, object_pairs_hook\u001b[38;5;241m=\u001b[39mobject_pairs_hook, \u001b[38;5;241m*\u001b[39m\u001b[38;5;241m*\u001b[39mkw)\n",
      "\u001b[0;31mKeyboardInterrupt\u001b[0m: "
     ]
    }
   ],
   "source": [
    "# def save_for_spm_training(pairs, out_path):\n",
    "#     with open(out_path, \"w\", encoding=\"utf-8\") as f:\n",
    "#         for pair in pairs:\n",
    "#             f.write(pair[\"input\"].strip() + \"\\n\")\n",
    "#             f.write(pair[\"target\"].strip() + \"\\n\")\n",
    "\n",
    "# # 예시 사용\n",
    "# with open(\"../data/converted_dataset/train_chatbot_data.json\", \"r\", encoding=\"utf-8\") as f:\n",
    "#     data = json.load(f)\n",
    "\n",
    "# save_for_spm_training(data, \"../data/text_dataset/text_for_txt/train.txt\")"
   ]
  },
  {
   "cell_type": "code",
   "execution_count": null,
   "id": "72a86a43",
   "metadata": {},
   "outputs": [
    {
     "name": "stdout",
     "output_type": "stream",
     "text": [
      "✅ 모델 저장 완료: ../model/llm_model/chatbot_spm.model\n",
      "✅ 단어 사전 저장 완료: ../model/llm_model/chatbot_spm.vocab\n"
     ]
    }
   ],
   "source": [
    "# 실행 예시\n",
    "# train_sentencepiece(\"../data/text_dataset/text_for_txt/train.txt\", model_dir=\"../model/llm_model\", model_name=\"chatbot_spm\")"
   ]
  },
  {
   "cell_type": "code",
   "execution_count": 167,
   "id": "a8e3b0e6",
   "metadata": {},
   "outputs": [],
   "source": [
    "class SentencePieceTokenizer:\n",
    "    def __init__(self, model_path):\n",
    "        self.sp = spm.SentencePieceProcessor()\n",
    "        self.sp.load(model_path)\n",
    "        self.vocab_size = self.sp.get_piece_size()\n",
    "        \n",
    "    def encode(self, text):\n",
    "        return self.sp.encode(text, out_type=int)\n",
    "    \n",
    "    def decode(self, ids):\n",
    "        return self.sp.decode(ids)\n",
    "    \n",
    "    def pad_id(self):\n",
    "        return self.sp.pad_id()\n",
    "    \n",
    "    def bos_id(self):\n",
    "        return self.sp.bos_id()\n",
    "    \n",
    "    def eos_id(self):\n",
    "        return self.sp.eos_id()"
   ]
  },
  {
   "cell_type": "code",
   "execution_count": 169,
   "id": "3fcb0426",
   "metadata": {},
   "outputs": [
    {
     "name": "stdout",
     "output_type": "stream",
     "text": [
      "tokenized: [1583, 24, 1560]\n",
      "decode: 알아서 하던가\n",
      "PAD ID: 0\n",
      "[2688]\n",
      "안녕\n"
     ]
    }
   ],
   "source": [
    "# 테스트\n",
    "tokenizer = SentencePieceTokenizer(\"../model/llm_model/chatbot_spm.model\")\n",
    "\n",
    "ids = tokenizer.encode(\"알아서 하던가\")\n",
    "print(\"tokenized:\", ids)\n",
    "\n",
    "text = tokenizer.decode(ids)\n",
    "print(\"decode:\", text)\n",
    "\n",
    "print(\"PAD ID:\", tokenizer.pad_id())\n",
    "\n",
    "print(tokenizer.encode(\"안녕\"))\n",
    "print(tokenizer.decode(tokenizer.encode('안녕')))"
   ]
  },
  {
   "cell_type": "code",
   "execution_count": 170,
   "id": "b2bd589e",
   "metadata": {},
   "outputs": [],
   "source": [
    "import torch\n",
    "import torch.nn as nn\n",
    "import torch.nn.functional as F"
   ]
  },
  {
   "cell_type": "code",
   "execution_count": 173,
   "id": "c0e077bb",
   "metadata": {},
   "outputs": [],
   "source": [
    "class Encoder(nn.Module):\n",
    "    def __init__(self, vocab_size, embed_size, hidden_size, num_layers=2, dropout=0.1):\n",
    "        super(Encoder, self).__init__()\n",
    "        self.embedding = nn.Embedding(vocab_size, embed_size, padding_idx=0)\n",
    "        self.lstm = nn.LSTM(embed_size, hidden_size, num_layers, \n",
    "                            batch_first=True, dropout=dropout, bidirectional=False)\n",
    "        \n",
    "    def forward(self, x):\n",
    "        embeded = self.embedding(x)\n",
    "        outputs, (hidden, cell) = self.lstm(embeded)\n",
    "        return outputs, (hidden, cell)\n",
    "\n",
    "class Attention(nn.Module):\n",
    "    def __init__(self, hidden_size):\n",
    "        super(Attention, self).__init__()\n",
    "        self.attn = nn.Linear(hidden_size * 2, hidden_size)\n",
    "        self.v = nn.Linear(hidden_size, 1, bias=False)\n",
    "\n",
    "    def forward(self, hidden, encoder_outputs):\n",
    "        if hidden.dim() == 2:\n",
    "            hidden = hidden.unsqueeze(1)\n",
    "\n",
    "        # batch_size = encoder_outputs.size(0)\n",
    "        seq_len = encoder_outputs.size(1)\n",
    "        hidden = hidden.repeat(1, seq_len, 1)\n",
    "        energy = torch.tanh(self.attn(torch.cat((hidden, encoder_outputs), dim=2)))\n",
    "        attention = self.v(energy).squeeze(2)\n",
    "        attn_weight = F.softmax(attention, dim=1)\n",
    "        context = torch.bmm(attn_weight.unsqueeze(1), encoder_outputs)\n",
    "        return context, attn_weight\n",
    "\n",
    "class Decoder(nn.Module):\n",
    "    def __init__(self, vocab_size, embed_size, hidden_size, num_layers=2, dropout=0.1):\n",
    "        super(Decoder, self).__init__()\n",
    "\n",
    "        self.embedding = nn.Embedding(vocab_size, embed_size, padding_idx=0)\n",
    "        self.lstm = nn.LSTM(embed_size + hidden_size, hidden_size,\n",
    "                            num_layers, batch_first=True, dropout=dropout)\n",
    "        self.fc_out = nn.Linear(hidden_size * 2, vocab_size)\n",
    "        self.attention = Attention(hidden_size)\n",
    "\n",
    "    def forward(self, input_token, hidden, cell, encoder_outputs):\n",
    "        if input_token.dim() == 1:\n",
    "            input_token = input_token.unsqueeze(1)\n",
    "\n",
    "        embedded = self.embedding(input_token)\n",
    "        context, attn_weights = self.attention(hidden[-1], encoder_outputs)\n",
    "        lstm_input = torch.cat((embedded, context), dim=2)\n",
    "\n",
    "        outputs, (hidden, cell) = self.lstm(lstm_input, (hidden, cell))\n",
    "        concat = torch.cat((outputs, context), dim=2)\n",
    "        logits = self.fc_out(concat).squeeze(1)\n",
    "\n",
    "        return logits, hidden, cell, attn_weights\n",
    "\n",
    "class Seq2Seq(nn.Module):\n",
    "    def __init__(self, encoder, decoder, device):\n",
    "        super(Seq2Seq, self).__init__()\n",
    "        self.encoder = encoder\n",
    "        self.decoder = decoder\n",
    "        self.device = device\n",
    "\n",
    "    def forward(self, src, trg, teacher_forcing_ratio=0.5):\n",
    "        batch_size, trg_len = trg.shape\n",
    "        vocab_size = self.decoder.embedding.num_embeddings\n",
    "\n",
    "        outputs = torch.zeros(batch_size, trg_len, vocab_size).to(self.device)\n",
    "\n",
    "        encoder_outputs, (hidden, cell) = self.encoder(src)\n",
    "        input_token = trg[:, 0]\n",
    "\n",
    "        for t in range(1, trg_len):\n",
    "            output, hidden, cell, _ = self.decoder(input_token, hidden, cell, encoder_outputs)\n",
    "            outputs[:, t] = output\n",
    "            top1 = output.argmax(1)\n",
    "            input_token = trg[:, t] if torch.rand(1).item() < teacher_forcing_ratio else top1\n",
    "\n",
    "        return outputs"
   ]
  },
  {
   "cell_type": "code",
   "execution_count": null,
   "id": "5c75543d",
   "metadata": {},
   "outputs": [],
   "source": [
    "import torch\n",
    "from torch.utils.data import Dataset\n",
    "import json\n",
    "\n",
    "class ChatDataset(Dataset):\n",
    "    def __init__(self, json_path, tokenizer, max_len=64):\n",
    "        with open(json_path, \"r\", encoding=\"utf-8\") as f:\n",
    "            self.data = json.load(f)\n",
    "        self.tokenizer = tokenizer\n",
    "        self.max_len = max_len\n",
    "\n",
    "    def __len__(self):\n",
    "        return len(self.data)\n",
    "    \n",
    "    def __getitem__(self, idx):\n",
    "        input_text = clean_text(self.data[idx][\"input\"])\n",
    "        target_text = clean_text(self.data[idx][\"target\"])\n",
    "\n",
    "        input_ids = [self.tokenizer.bos_id()] + self.tokenizer.encode(input_text) + [self.tokenizer.eos_id()]\n",
    "        target_ids = [self.tokenizer.bos_id()] + self.tokenizer.encode(target_text) + [self.tokenizer.eos_id()]\n",
    "\n",
    "        # 패딩 처리\n",
    "        input_ids = input_ids[:self.max_len] + [self.tokenizer.pad_id()] * max(0, self.max_len - len(input_ids))\n",
    "        target_ids = target_ids[:self.max_len] + [self.tokenizer.pad_id()] * max(0, self.max_len - len(target_ids))\n",
    "\n",
    "        return torch.tensor(input_ids), torch.tensor(target_ids)"
   ]
  },
  {
   "cell_type": "code",
   "execution_count": 175,
   "id": "c316630e",
   "metadata": {},
   "outputs": [],
   "source": [
    "import torch\n",
    "import torch.nn as nn\n",
    "import torch.optim as optim\n",
    "from tqdm import tqdm"
   ]
  },
  {
   "cell_type": "code",
   "execution_count": 113,
   "id": "8733416e",
   "metadata": {},
   "outputs": [],
   "source": [
    "def train_model(model, dataloader, tokenizer, num_epochs=5, lr=1e-3, device=None, checkpoint_path=None):\n",
    "    device = torch.device(\"mps\" if torch.backends.mps.is_available() else \"cpu\")\n",
    "    # gpu 기반\n",
    "    # device = torch.device(\"cuda\" if torch.cuda.is_available() else \"cpu\")\n",
    "    model = model.to(device)\n",
    "\n",
    "    pad_id = tokenizer.pad_id()\n",
    "    criterion = nn.CrossEntropyLoss(ignore_index=pad_id)\n",
    "    optimizer = optim.Adam(model.parameters(), lr=lr)\n",
    "\n",
    "    start_epoch = 0\n",
    "    if checkpoint_path is not None and os.path.exists(checkpoint_path):\n",
    "        checkpoint = torch.load(checkpoint_path, map_location=device)\n",
    "        model.load_state_dict(checkpoint[\"model_state_dict\"])\n",
    "        optimizer.load_state_dict(checkpoint[\"optimizer_state_dict\"])\n",
    "        start_epoch = checkpoint[\"epoch\"] + 1\n",
    "        print(f\"🔄 체크포인트에서 재시작: epoch {start_epoch}\")\n",
    "    else:\n",
    "        print(\"🆕 새로 학습을 시작합니다.\")\n",
    "\n",
    "    model.train()\n",
    "\n",
    "    for epoch in range(start_epoch, num_epochs):\n",
    "        epoch_loss = 0\n",
    "        progress_bar = tqdm(dataloader, desc=f\"Epoch {epoch+1}/{num_epochs}\")\n",
    "\n",
    "        for src, trg in progress_bar:\n",
    "            src, trg = src.to(device), trg.to(device)\n",
    "            optimizer.zero_grad()\n",
    "\n",
    "            output = model(src, trg)\n",
    "            output_dim = output.shape[-1]\n",
    "\n",
    "            output = output[:, 1:].reshape(-1, output_dim)\n",
    "            trg = trg[:, 1:].reshape(-1)\n",
    "\n",
    "            loss = criterion(output, trg)\n",
    "            loss.backward()\n",
    "            optimizer.step()\n",
    "\n",
    "            epoch_loss += loss.item()\n",
    "            progress_bar.set_postfix(loss=loss.item())\n",
    "\n",
    "        avg_loss = epoch_loss / len(dataloader)\n",
    "        print(f\"\\n[Epoch {epoch+1}] 평균 Loss: {avg_loss:.4f}\")\n",
    "\n",
    "        # checkpoint 저장\n",
    "        torch.save({\n",
    "            'epoch': epoch,\n",
    "            'model_state_dict': model.state_dict(),\n",
    "            'optimizer_state_dict': optimizer.state_dict(),\n",
    "            'loss': avg_loss,\n",
    "        }, f\"checkpoint_epoch{epoch}.pt\")\n",
    "\n",
    "    return model"
   ]
  },
  {
   "cell_type": "markdown",
   "id": "e4a1e4e6",
   "metadata": {},
   "source": [
    "### 모델 저장 및 평가"
   ]
  },
  {
   "cell_type": "code",
   "execution_count": 176,
   "id": "e14956fb",
   "metadata": {},
   "outputs": [],
   "source": [
    "def save_model(model, path='../model/llm_model/chatbot_model.pt'):\n",
    "    torch.save(model.state_dict(), path)\n",
    "    print(f\"✅ 모델 저장 완료: {path}\")\n",
    "\n",
    "def load_model(model, path='../model/llm_model/chatbot_model.pt'):\n",
    "    device = torch.device(\"mps\" if torch.backends.mps.is_available() else \"cpu\")\n",
    "    model.load_state_dict(torch.load(path, map_location=device))\n",
    "    model.to(device)\n",
    "    model.eval()\n",
    "    return model"
   ]
  },
  {
   "cell_type": "code",
   "execution_count": 177,
   "id": "d5cfe9bd",
   "metadata": {},
   "outputs": [],
   "source": [
    "from torch.nn.functional import softmax\n",
    "\n",
    "@torch.no_grad()\n",
    "def evalute_model(model, dataloader, tokenizer,\n",
    "                    device = torch.device(\"mps\" if torch.backends.mps.is_available() else \"cpu\")):\n",
    "    # device='cuda' if torch.cuda.is_available() else 'cpu'\n",
    "    model.eval()\n",
    "    model.to(device)\n",
    "\n",
    "    for i, (src, trg) in enumerate(dataloader):\n",
    "        if i >= 5: break\n",
    "\n",
    "        src, trg = src.to(device), trg.to(device)\n",
    "\n",
    "        # infernce 모드\n",
    "        output = model(src, trg, teacher_forcing_ratio=0.0)\n",
    "        pred = output.argmax(dim=-1)\n",
    "\n",
    "        print(\"🟢 Input :\", tokenizer.decode(src[0].tolist()))\n",
    "        print(\"✅ Target :\", tokenizer.decode(trg[0].tolist()))\n",
    "        print(\"🤖 Output :\", tokenizer.decode(pred[0].tolist()))\n",
    "        print(\"-\"*60)"
   ]
  },
  {
   "cell_type": "code",
   "execution_count": 178,
   "id": "64dc7cc4",
   "metadata": {},
   "outputs": [],
   "source": [
    "def generate_reply(model, tokenizer, input_text, max_len=64, \n",
    "                device=torch.device(\"mps\" if torch.backends.mps.is_available() else \"cpu\")):\n",
    "    model.eval()\n",
    "    model.to(device)\n",
    "\n",
    "    # 입력 인코딩\n",
    "    input_ids = tokenizer.encode(input_text)\n",
    "    input_ids = input_ids + [tokenizer.pad_id()] * (max_len - len(input_ids))\n",
    "    src = torch.tensor(input_ids).unsqueeze(0).to(device)  # [1, seq_len]\n",
    "\n",
    "    input_token = torch.tensor([tokenizer.bos_id()], device=device)  # 시작 토큰 호출 O\n",
    "\n",
    "    generated_ids = []\n",
    "\n",
    "    with torch.no_grad():\n",
    "        # 인코더 출력\n",
    "        encoder_outputs, (hidden, cell) = model.encoder(src)\n",
    "\n",
    "        for t in range(max_len):\n",
    "            output, hidden, cell, _ = model.decoder(input_token.view(1, 1), hidden, cell, encoder_outputs)\n",
    "\n",
    "            if t < 5:\n",
    "                output[0][tokenizer.eos_id()] = -float('inf')  # 호출 O\n",
    "\n",
    "            next_token = output.argmax(1)\n",
    "\n",
    "            if next_token.item() == tokenizer.eos_id():  # 호출 O\n",
    "                break\n",
    "\n",
    "            generated_ids.append(next_token.item())\n",
    "            input_token = next_token\n",
    "\n",
    "    decoded = tokenizer.decode(generated_ids)\n",
    "\n",
    "    print(\"input_ids:\", input_ids)\n",
    "    print(\"generated_ids:\", generated_ids)\n",
    "    print(\"decoded:\", decoded)\n",
    "    \n",
    "    return decoded"
   ]
  },
  {
   "cell_type": "markdown",
   "id": "103b51e6",
   "metadata": {},
   "source": [
    "### 테스트"
   ]
  },
  {
   "cell_type": "code",
   "execution_count": 179,
   "id": "0ad873bb",
   "metadata": {},
   "outputs": [],
   "source": [
    "def interactive_chat(model, tokenizer, device = torch.device(\"mps\" if torch.backends.mps.is_available() else \"cpu\")):\n",
    "    # device='cuda' if torch.cuda.is_available() else 'cpu'\n",
    "    print(\"🤖 챗봇 테스트 시작. 종료하려면 exit 입력.\")\n",
    "\n",
    "    while(True):\n",
    "        query = input(\"👤 사용자: \")\n",
    "        print(\"👤 사용자: \", query)\n",
    "        if query.strip().lower() in ['exit', 'quit', '종료']:\n",
    "            print(\"🔴 테스트 종료.\")\n",
    "            break\n",
    "        response = generate_reply(model, tokenizer, query, device=device)\n",
    "        print(\"🤖 챗봇: \", response)"
   ]
  },
  {
   "cell_type": "markdown",
   "id": "7ec93e35",
   "metadata": {},
   "source": [
    "### 전체 파이프라인"
   ]
  },
  {
   "cell_type": "code",
   "execution_count": 118,
   "id": "b9e178c2",
   "metadata": {},
   "outputs": [],
   "source": [
    "def full_pipeline(train_loader, valid_loader, tokenizer, model, num_epochs=5):\n",
    "    trained_model = train_model(model, train_loader, tokenizer, num_epochs=num_epochs)\n",
    "\n",
    "    save_model(trained_model, \"model/llm_model/chatbot_model.pt\")\n",
    "\n",
    "    evalute_model(trained_model, valid_loader, tokenizer)\n",
    "\n",
    "    interactive_chat(trained_model, tokenizer)"
   ]
  },
  {
   "cell_type": "code",
   "execution_count": 180,
   "id": "dc210817",
   "metadata": {},
   "outputs": [],
   "source": [
    "def test_pipeline(valid_loader, tokenizer, model):\n",
    "    \n",
    "    test_model = load_model(model)\n",
    "\n",
    "    evalute_model(test_model, valid_loader, tokenizer)\n",
    "\n",
    "    interactive_chat(test_model, tokenizer)"
   ]
  },
  {
   "cell_type": "code",
   "execution_count": null,
   "id": "556fbcea",
   "metadata": {},
   "outputs": [],
   "source": [
    "from torch.utils.data import DataLoader\n",
    "\n",
    "train_dataset = ChatDataset(\"../data/converted_dataset/train_chatbot_data.json\", tokenizer)\n",
    "valid_dataset = ChatDataset(\"../data/converted_dataset/valid_chatbot_data.json\", tokenizer)\n",
    "\n",
    "train_loader = DataLoader(train_dataset, batch_size=64, shuffle=True, drop_last=True)\n",
    "valid_loader = DataLoader(valid_dataset, batch_size=64, shuffle=False, drop_last=True)"
   ]
  },
  {
   "cell_type": "markdown",
   "id": "942c66d5",
   "metadata": {},
   "source": [
    "### 학습 시작 및 모델 저장"
   ]
  },
  {
   "cell_type": "code",
   "execution_count": null,
   "id": "7ffc2914",
   "metadata": {},
   "outputs": [
    {
     "name": "stdout",
     "output_type": "stream",
     "text": [
      "🟢 Input : 사쓰던가\n",
      "✅ Target : 가서생각해\n",
      "🤖 Output : #@\n",
      "------------------------------------------------------------\n",
      "🟢 Input : 모자에털있는것으로무사히사땈ᄏᄏᄏ\n",
      "✅ Target : ᄏᄏᄏᄏᄏᄏᄏᄏᄏᄏᄏᄏᄏᄏ\n",
      "🤖 Output : #@\n",
      "------------------------------------------------------------\n",
      "🟢 Input : 난 126...\n",
      "✅ Target : 1,2중에ᅦ하나살까\n",
      "🤖 Output : #@\n",
      "------------------------------------------------------------\n",
      "🟢 Input : 라코스테 가방은 또 너무 여름용이야\n",
      "✅ Target : 왜\n",
      "🤖 Output : #@\n",
      "------------------------------------------------------------\n",
      "🟢 Input : 똑같은거야 ᄏᄏᄏ\n",
      "✅ Target : 다른거야\n",
      "🤖 Output : #@\n",
      "------------------------------------------------------------\n",
      "🤖 챗봇 테스트 시작. 종료하려면 exit 입력.\n",
      "👤 사용자:  안녕\n",
      "input_ids: [2688, 0, 0, 0, 0, 0, 0, 0, 0, 0, 0, 0, 0, 0, 0, 0, 0, 0, 0, 0, 0, 0, 0, 0, 0, 0, 0, 0, 0, 0, 0, 0, 0, 0, 0, 0, 0, 0, 0, 0, 0, 0, 0, 0, 0, 0, 0, 0, 0, 0, 0, 0, 0, 0, 0, 0, 0, 0, 0, 0, 0, 0, 0, 0]\n",
      "generated_ids: [10, 48, 6475, 65, 6475]\n",
      "decoded: #@시스템#사진#\n",
      "🤖 챗봇:  #@시스템#사진#\n",
      "👤 사용자:  exit\n",
      "🔴 테스트 종료.\n"
     ]
    }
   ],
   "source": [
    "vocab_size = tokenizer.vocab_size\n",
    "embed_size = 256\n",
    "hidden_size = 512\n",
    "\n",
    "encoder = Encoder(vocab_size, embed_size, hidden_size)\n",
    "decoder = Decoder(vocab_size, embed_size, hidden_size)\n",
    "model = Seq2Seq(encoder, decoder, device = torch.device(\"mps\" if torch.backends.mps.is_available() else \"cpu\"))\n",
    "# gpu 기반\n",
    "# device = torch.device(\"cuda\" if torch.cuda.is_available() else \"cpu\")\n",
    "\n",
    "# 전체 파이프라인\n",
    "# full_pipeline(train_loader, valid_loader, tokenizer, model, num_epochs=5)\n",
    "\n",
    "# 테스트만\n",
    "test_pipeline(valid_loader, tokenizer, model)"
   ]
  }
 ],
 "metadata": {
  "kernelspec": {
   "display_name": "dl_study",
   "language": "python",
   "name": "python3"
  },
  "language_info": {
   "codemirror_mode": {
    "name": "ipython",
    "version": 3
   },
   "file_extension": ".py",
   "mimetype": "text/x-python",
   "name": "python",
   "nbconvert_exporter": "python",
   "pygments_lexer": "ipython3",
   "version": "3.11.3"
  }
 },
 "nbformat": 4,
 "nbformat_minor": 5
}
