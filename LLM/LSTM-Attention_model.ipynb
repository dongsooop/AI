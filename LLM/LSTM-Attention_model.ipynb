{
 "cells": [
  {
   "cell_type": "markdown",
   "id": "65d3db5b",
   "metadata": {},
   "source": [
    "# 데이터 로드 및 확인"
   ]
  },
  {
   "cell_type": "code",
   "execution_count": 107,
   "id": "f3f30ad4",
   "metadata": {},
   "outputs": [],
   "source": [
    "# 전체 라이브러리 모아두기\n",
    "import pandas as pd\n",
    "import os\n",
    "import sentencepiece as spm\n",
    "import json\n",
    "import re"
   ]
  },
  {
   "cell_type": "code",
   "execution_count": 108,
   "id": "41a55502",
   "metadata": {},
   "outputs": [],
   "source": [
    "# 전처리 추가 (시스템 태그 삭제)\n",
    "def clean_text(text):\n",
    "    # 시스템 태그 제거\n",
    "    text = re.sub(r\"#@[^#]+#\", \"\", text)\n",
    "    # 중복된 기호, 공백 정리\n",
    "    text = re.sub(r\"[!@#\\$%^&*\\(\\)\\[\\]_+=<>?/|\\\\~`\\\"';:]{2,}\", \"\", text)\n",
    "    text = re.sub(r\"\\s+\", \" \", text)\n",
    "    return text.strip()\n",
    "\n",
    "\n",
    "def preprocess_dialogues(json_path, save_path=None):\n",
    "    import pandas as pd\n",
    "\n",
    "    with open(json_path, 'r', encoding='utf-8') as f:\n",
    "        data = json.load(f)\n",
    "\n",
    "    pairs = []\n",
    "\n",
    "    for dialogue in data['data']:\n",
    "        body = dialogue['body']\n",
    "        body.sort(key=lambda x: (x['turnID'], x['utteranceID']))\n",
    "        \n",
    "        prev_participant = None\n",
    "        prev_text = \"\"\n",
    "        \n",
    "        for utt in body:\n",
    "            pid = utt['participantID']\n",
    "            text = clean_text(utt['utterance'])\n",
    "            \n",
    "            if not text:\n",
    "                continue\n",
    "            \n",
    "            if prev_participant and pid != prev_participant:\n",
    "                # 서로 다른 참여자 간 대화\n",
    "                pairs.append((prev_text, text))\n",
    "            \n",
    "            prev_participant = pid\n",
    "            prev_text = text\n",
    "        \n",
    "\n",
    "    if save_path:\n",
    "        df = pd.DataFrame(pairs, columns=[\"input\", \"response\"])\n",
    "        df.to_csv(save_path, index=False, encoding='utf-8-sig')\n",
    "\n",
    "    return pairs"
   ]
  },
  {
   "cell_type": "code",
   "execution_count": 109,
   "id": "2bc3c182",
   "metadata": {},
   "outputs": [],
   "source": [
    "# 전처리 실행\n",
    "train_pairs = preprocess_dialogues(\"../data/text_dataset/한국어SNS_train/[라벨]한국어SNS_train/개인및관계.json\", save_path=\"../data/text_dataset/save_path/train_pairs.csv\")\n",
    "valid_pairs = preprocess_dialogues(\"../data/text_dataset/한국어SNS_valid/[라벨]한국어SNS_valid/개인및관계.json\", save_path=\"../data/text_dataset/save_path/valid_pairs.csv\")"
   ]
  },
  {
   "cell_type": "code",
   "execution_count": 110,
   "id": "7190d484",
   "metadata": {},
   "outputs": [
    {
     "name": "stdout",
     "output_type": "stream",
     "text": [
      "Q: 잉ㅜㅜ\n",
      "A: 돈따스\n",
      "------------------------------\n",
      "Q: 돈따스\n",
      "A: 안보내줫어?\n",
      "------------------------------\n",
      "Q: 이거\n",
      "A: 하 ......ㅡ\n",
      "------------------------------\n",
      "Q: 퀵으로한대서 두시까지오래 ㅋㅋㅋㅋ\n",
      "A: ㅎㅎㅎㅎ오좋겠네\n",
      "------------------------------\n",
      "Q: ㅎㅎㅎㅎ오좋겠네\n",
      "A: 잘잣어ㅋㅋㅋㅋㅋ\n",
      "------------------------------\n",
      "Q: 잘잣어ㅋㅋㅋㅋㅋ\n",
      "A: ㅋㄱㅋㄱㄱㄱㄱ아니\n",
      "------------------------------\n",
      "Q: 머거\n",
      "A: 잉\n",
      "------------------------------\n",
      "Q: 내돈가쓰...\n",
      "A: ㅋㄱㄱㄱㄱㄱ맛있어\n",
      "------------------------------\n",
      "Q: 고로케도존맛탱\n",
      "A: 사진찍엇어....\n",
      "------------------------------\n",
      "Q: 사진찍엇어....\n",
      "A: ㅋㄱㄱㄱㅋ\n",
      "------------------------------\n",
      "Q: 학생이면좋구!\n",
      "A: 훔\n",
      "------------------------------\n",
      "Q: 없는데...주변에...\n",
      "A: 왜혼자다니냐고오.....\n",
      "------------------------------\n",
      "Q: 왜혼자다니냐고오.....\n",
      "A: 아니\n",
      "------------------------------\n",
      "Q: 어케 친구가있냐..\n",
      "A: 와 내친군학교나감\n",
      "------------------------------\n",
      "Q: 막졸업한애두굳\n",
      "A: 없다구...\n",
      "------------------------------\n",
      "Q: 너무화난당..\n",
      "A: 흠\n",
      "------------------------------\n",
      "Q: 흠\n",
      "A: 근데오빠는말을또 잘해서 내가화내다보면결국내잘못\n",
      "------------------------------\n",
      "Q: 답답해진짱ㅋㅋ\n",
      "A: 그럴때 억울하지 짖짜\n",
      "------------------------------\n",
      "Q: 오빠도 오늘 회식이야?\n",
      "A: 아니\n",
      "------------------------------\n",
      "Q: 노는중ㅋㅋ\n",
      "A: 아\n",
      "------------------------------\n"
     ]
    }
   ],
   "source": [
    "# 학습 샘플 확인\n",
    "for i in range(20):\n",
    "    print(f\"Q: {train_pairs[i][0]}\")\n",
    "    print(f\"A: {train_pairs[i][1]}\")\n",
    "    print(\"-\" * 30)"
   ]
  },
  {
   "cell_type": "markdown",
   "id": "fb2aba58",
   "metadata": {},
   "source": [
    "### train_pairs.csv , valid_pairs.csv -> train.txt로 병합"
   ]
  },
  {
   "cell_type": "code",
   "execution_count": 111,
   "id": "1b4bfb5a",
   "metadata": {},
   "outputs": [],
   "source": [
    "def merge_csv_to_text(train_csv, valid_csv, output_txt):\n",
    "    df_train = pd.read_csv(train_csv)\n",
    "    df_valid = pd.read_csv(valid_csv)\n",
    "    \n",
    "    with open(output_txt, 'w', encoding='utf-8') as f:\n",
    "        for df in [df_train, df_valid]:\n",
    "            for i in range(len(df)):\n",
    "                input_text = str(df.loc[i, \"input\"]).strip()\n",
    "                response_text = str(df.loc[i, \"response\"]).strip()\n",
    "                if input_text and response_text:\n",
    "                    f.write(input_text + '\\n')\n",
    "                    f.write(response_text + '\\n')\n",
    "                    \n",
    "merge_csv_to_text(\n",
    "    \"../data/text_dataset/save_path/train_pairs.csv\",\n",
    "    \"../data/text_dataset/save_path/valid_pairs.csv\",\n",
    "    \"../data/text_dataset/text_for_txt/train.txt\"\n",
    ")"
   ]
  },
  {
   "cell_type": "markdown",
   "id": "783834d5",
   "metadata": {},
   "source": [
    "----\n",
    "\n",
    "# SentencePiece 토크나이저 학습\n",
    "+ 띄어쓰기/어절 기반이 아닌 서브워드 단위로 토큰 분할\n",
    "+ 유연하게 희귀 단어 처리 가능\n",
    "+ 한국어 SNS 데이터에 잘 맞음"
   ]
  },
  {
   "cell_type": "code",
   "execution_count": 112,
   "id": "ae4ba312",
   "metadata": {},
   "outputs": [],
   "source": [
    "def train_sentencepiece(input_file, model_dir=\"../model/llm_model\", model_name=\"chatbot_spm\", vocab_size=16000):\n",
    "    \"\"\"\n",
    "    SentencePiece 모델을 학습하고 지정한 위치에 저장합니다.\n",
    "\n",
    "    :param input_file: 학습에 사용할 텍스트 파일 경로 (ex: train.txt)\n",
    "    :param model_dir: 모델과 vocab 파일이 저장될 폴더 경로\n",
    "    :param model_name: 저장될 모델 파일 이름 접두어\n",
    "    :param vocab_size: 사용할 vocab 사이즈 (기본: 8000)\n",
    "    \"\"\"\n",
    "\n",
    "    # 저장 경로 포함한 전체 prefix\n",
    "    model_prefix = os.path.join(model_dir, model_name)\n",
    "\n",
    "    # SentencePiece 학습 실행\n",
    "    spm.SentencePieceTrainer.Train(\n",
    "        f\"--input={input_file} --model_prefix={model_prefix} --vocab_size={vocab_size} \"\n",
    "        \"--model_type=bpe --character_coverage=1.0 --pad_id=0 --unk_id=1 --bos_id=2 --eos_id=3\"\n",
    "    )\n",
    "\n",
    "    print(f\"✅ 모델 저장 완료: {model_prefix}.model\")\n",
    "    print(f\"✅ 단어 사전 저장 완료: {model_prefix}.vocab\")"
   ]
  },
  {
   "cell_type": "code",
   "execution_count": 117,
   "id": "9d322779",
   "metadata": {},
   "outputs": [
    {
     "name": "stdout",
     "output_type": "stream",
     "text": [
      "✅ 모델 저장 완료: ../model/llm_model/chatbot_spm.model\n",
      "✅ 단어 사전 저장 완료: ../model/llm_model/chatbot_spm.vocab\n"
     ]
    }
   ],
   "source": [
    "# 실행 예시\n",
    "train_sentencepiece(\"../data/text_dataset/text_for_txt/train.txt\", model_dir=\"../model/llm_model\", model_name=\"chatbot_spm\")"
   ]
  },
  {
   "cell_type": "markdown",
   "id": "169e253d",
   "metadata": {},
   "source": [
    "## Tokenizer 클래스 기능\n",
    "1. 텍스트 -> 토큰 ID (정수 시퀀스) 변환 (encode)\n",
    "2. 토큰 ID -> 텍스트 복원 (decode)\n",
    "3. special token (pad, bos, eos 등) 관리 "
   ]
  },
  {
   "cell_type": "code",
   "execution_count": 118,
   "id": "a8e3b0e6",
   "metadata": {},
   "outputs": [],
   "source": [
    "class Tokenizer:\n",
    "    def __init__(self, model_path: str):\n",
    "        self.sp = spm.SentencePieceProcessor()\n",
    "        self.sp.load(model_path)\n",
    "        \n",
    "        self.pad_id = self.sp.pad_id()\n",
    "        self.unk_id = self.sp.unk_id()\n",
    "        self.bos_id = self.sp.bos_id()\n",
    "        self.eos_id = self.sp.eos_id()\n",
    "    \n",
    "    def encode(self, text: str, add_bos=True, add_eos=True) -> list:\n",
    "        tokens = self.sp.encode(text, out_type=int)\n",
    "        if add_bos:\n",
    "            tokens = [self.bos_id] + tokens\n",
    "        if add_eos:\n",
    "            tokens = tokens + [self.eos_id]\n",
    "        return tokens\n",
    "    \n",
    "    def decode(self, ids: list) -> str:\n",
    "        ids = [i for i in ids if i not in [self.bos_id, self.eos_id, self.pad_id]]\n",
    "        return self.sp.decode(ids)\n",
    "    \n",
    "    def vacab_size(self):\n",
    "        return self.sp.get_piece_size()"
   ]
  },
  {
   "cell_type": "code",
   "execution_count": 119,
   "id": "3fcb0426",
   "metadata": {},
   "outputs": [
    {
     "name": "stdout",
     "output_type": "stream",
     "text": [
      "✅ 원문: 오늘 날씨 좋아?\n",
      "🧠 인코딩: [2, 57, 1602, 200, 8898, 3]\n",
      "🔁 디코딩: 오늘 날씨 좋아?\n"
     ]
    }
   ],
   "source": [
    "# 테스트\n",
    "tokenizer = Tokenizer(\"../model/llm_model/chatbot_spm.model\")\n",
    "\n",
    "text = \"오늘 날씨 좋아?\"\n",
    "encoded = tokenizer.encode(text)\n",
    "decoded = tokenizer.decode(encoded)\n",
    "\n",
    "print(\"✅ 원문:\", text)\n",
    "print(\"🧠 인코딩:\", encoded)\n",
    "print(\"🔁 디코딩:\", decoded)"
   ]
  },
  {
   "cell_type": "markdown",
   "id": "7f631293",
   "metadata": {},
   "source": [
    "## LSTM + Attention 모델 정의\n",
    "+ Embedding Layer : 입력 토큰을 벡터로 변환\n",
    "+ Encoder : LSTM을 사용해 입력 시퀀스를 인코딩\n",
    "+ Attention : 디코딩 시 인코더의 중요 부분을 집중해서 학습\n",
    "+ Decoder : LSTM 디코더 + Atention 출력 결합 + 출력 생성\n",
    "\n",
    "### Tokenizer가 또 나오는 이유\n",
    "Because. SentencePiece tokenizer를 감싸는 Tokenizer를 만드는 중이다. <br>\n",
    "결국 밑에 나오는 코드를 작성해야 DataLoader 구성할 때 input과 response를 숫자 시퀀스로 바꿀 수 있다. <br>\n",
    "지금 하는 행위는 기존 Transformer 라이브러리의 Tokenizer를 직접 구현하는 중."
   ]
  },
  {
   "cell_type": "code",
   "execution_count": 120,
   "id": "b2bd589e",
   "metadata": {},
   "outputs": [],
   "source": [
    "# 라이브러리 먼저 임포트\n",
    "import torch\n",
    "import torch.nn as nn\n",
    "import torch.nn.functional as F"
   ]
  },
  {
   "cell_type": "code",
   "execution_count": 131,
   "id": "c0e077bb",
   "metadata": {},
   "outputs": [],
   "source": [
    "class Encoder(nn.Module):\n",
    "    def __init__(self, vocab_size, embed_size, hidden_size, num_layers=1, dropout=0.1):\n",
    "        super(Encoder, self).__init__()\n",
    "        self.embedding = nn.Embedding(vocab_size, embed_size, padding_idx=0)\n",
    "        self.lstm = nn.LSTM(embed_size, hidden_size, num_layers, \n",
    "                            batch_first=True, dropout=dropout, bidirectional=False)\n",
    "        \n",
    "    def forward(self, x):\n",
    "        # 단어를 임베팅 벡터로 변환 vocab_size, embed_size\n",
    "        embeded = self.embedding(x)\n",
    "\n",
    "        # outputs : 시퀀스 전체 출력 == 모든 시점의 출력(attention용)\n",
    "        # hidden, cell : 마지막 LSTM hidden state(디코더 초기값)\n",
    "        outputs, (hidden, cell) = self.lstm(embeded)\n",
    "        return outputs, (hidden, cell)\n",
    "\n",
    "# 디코더의 현재 hidden state와 인코더의 전체 output을 비교해 중요한 부분(가중치)를 선택\n",
    "class Attention(nn.Module):\n",
    "    def __init__(self, hidden_size):\n",
    "        super(Attention, self).__init__()\n",
    "\n",
    "        # 인코더 출력과 디코더 hidden을 결합 후 처리하는 MLP\n",
    "        self.attn = nn.Linear(hidden_size * 2, hidden_size)\n",
    "\n",
    "        # attention score를 계산할 단일 선형 layer\n",
    "        self.v = nn.Linear(hidden_size, 1, bias=False)\n",
    "\n",
    "    def forward(self, hidden, encoder_outputs):\n",
    "        # hidden : batch, 1, hidden\n",
    "        # encoder_outputs : batch, seq_len, hidden\n",
    "        seq_len = encoder_outputs.size(1)\n",
    "        hidden = hidden.repeat(1, seq_len, 1)\n",
    "\n",
    "        energy = torch.tanh(self.attn(torch.cat((hidden, encoder_outputs), dim=2)))\n",
    "        attention = self.v(energy).squeeze(2)\n",
    "        attn_weight = F.softmax(attention, dim=1)\n",
    "\n",
    "        # context : 현재 시점에서 디코더가 집중해야 할 인코더 출력의 weighted sum\n",
    "        # attn_weight : 어텐션 가중치 (시각화 기능)\n",
    "        context = torch.bmm(attn_weight.unsqueeze(1), encoder_outputs)\n",
    "        return context, attn_weight\n",
    "\n",
    "# 한 단어씩 예측하면서 문장을 생성하는 역할\n",
    "# 어텐션을 통해 인코더에서 얻은 context vector 활용\n",
    "class Decoder(nn.Module):\n",
    "    def __init__(self, vocab_size, embed_size, hidden_size, num_layers=1, dropout=0.1):\n",
    "        super(Decoder, self).__init__()\n",
    "\n",
    "        # 입력 토큰(이전 단어)을 임베딩\n",
    "        self.embedding = nn.Embedding(vocab_size, embed_size, padding_idx=0)\n",
    "\n",
    "        # context vector와 임베딩을 입력으로 받아 다음 hidden state 생성\n",
    "        self.lstm = nn.LSTM(embed_size + hidden_size, hidden_size,\n",
    "                            num_layers, batch_first=True, dropout=dropout)\n",
    "        \n",
    "        # 예측된 단어 분포 (vacab 크기만큼 출력)\n",
    "        self.fc_out = nn.Linear(hidden_size * 2, vocab_size)\n",
    "\n",
    "        # 인코더 출력과 디코더 hidden을 사용해 어텐션 계산\n",
    "        self.attention = Attention(hidden_size)\n",
    "\n",
    "    def forward(self, input_token, hidden, cell, encoder_outputs):\n",
    "        # 출력 : batch, vocab_size로 각 단어의 확률 분포\n",
    "        embedded = self.embedding(input_token).unsqueeze(1)\n",
    "\n",
    "        context, attn_weights = self.attention(hidden[-1].unsqueeze(1), encoder_outputs)\n",
    "        lstm_input = torch.cat((embedded, context), dim=2)\n",
    "\n",
    "        # hidden, cell은 다음 시점 디코더에 전달\n",
    "        outputs, (hidden, cell) = self.lstm(lstm_input, (hidden, cell))\n",
    "        concat = torch.cat((outputs, context), dim=2)\n",
    "        logits = self.fc_out(concat).squeeze(1)\n",
    "\n",
    "        return logits, hidden, cell, attn_weights\n",
    "\n",
    "# 전체 모딜을 연결하여, 인코더 -> 디코더 구조 통합\n",
    "class Seq2Seq(nn.Module):\n",
    "    def __init__(self, encoder, decoder, device):\n",
    "        super(Seq2Seq, self).__init__()\n",
    "        self.encoder = encoder\n",
    "        self.decoder = decoder\n",
    "        self.device = device\n",
    "\n",
    "    def forward(self, src, trg, teacher_forcing_ratio=0.5):\n",
    "        batch_size, trg_len = trg.shape\n",
    "        vocab_size = self.decoder.embedding.num_embeddings\n",
    "\n",
    "        # outputs : shape[batch_size, trg_len, vocab_size]\n",
    "        # 이 값을 기준으로 cross entropy loss 계산 가능\n",
    "        outputs = torch.zeros(batch_size, trg_len, vocab_size).to(self.device)\n",
    "\n",
    "        encoder_outputs, (hidden, cell) = self.encoder(src)\n",
    "        input_token = trg[:, 0]    # <BOS> 토큰\n",
    "\n",
    "        for t in range(1, trg_len):\n",
    "            output, hidden, cell, _ = self.decoder(input_token, hidden, cell, encoder_outputs)\n",
    "            outputs[:, t] = output\n",
    "\n",
    "            # teacher_forcing_ratio\n",
    "            # 1.0 : 항상 정답 토큰을 다음 입력으로 사용\n",
    "            # 0.0 : 항상 모델이 예측한 값을 다음 입력으로 사용\n",
    "            # 학습 시 안정성 향상\n",
    "            top1 = output.argmax(1)\n",
    "            input_token = trg[:, t] if torch.rand(1).item() < teacher_forcing_ratio else top1\n",
    "\n",
    "        return outputs"
   ]
  },
  {
   "cell_type": "markdown",
   "id": "43876f7c",
   "metadata": {},
   "source": [
    "## Tokenizer 기반 학습 데이터셋 구성\n",
    "ChatDateset 에서 Tokenizer.encode 사용"
   ]
  },
  {
   "cell_type": "code",
   "execution_count": 122,
   "id": "5c75543d",
   "metadata": {},
   "outputs": [],
   "source": [
    "from torch.utils.data import Dataset\n",
    "from torch.utils.data import DataLoader\n",
    "import pandas as pd\n",
    "\n",
    "class ChatDataset(Dataset):\n",
    "    def __init__(self, csv_path, tokenizer, max_len=64):\n",
    "        df = pd.read_csv(csv_path)\n",
    "        self.inputs = df[\"input\"].astype(str).tolist()\n",
    "        self.responses = df[\"response\"].astype(str).tolist()\n",
    "        self.tokenizer = tokenizer\n",
    "        self.max_len = max_len\n",
    "\n",
    "    def __len__(self):\n",
    "        return len(self.inputs)\n",
    "    \n",
    "    def __getitem__(self, idx):\n",
    "        src = self.tokenizer.encode(self.inputs[idx])\n",
    "        trg = self.tokenizer.encode(self.responses[idx])\n",
    "\n",
    "        # pad\n",
    "        if len(src) < self.max_len:\n",
    "            src += [self.tokenizer.pad_id] * (self.max_len - len(src))\n",
    "        else:\n",
    "            src = src[:self.max_len]\n",
    "        \n",
    "        if len(trg) < self.max_len:\n",
    "            trg += [self.tokenizer.pad_id] * (self.max_len - len(trg))\n",
    "        else:\n",
    "            trg = trg[:self.max_len]\n",
    "        \n",
    "        return torch.tensor(src), torch.tensor(trg)\n",
    "    \n",
    "# 데이터 로더\n",
    "train_dataset = ChatDataset(\"../data/text_dataset/save_path/train_pairs.csv\", tokenizer)\n",
    "train_loader = DataLoader(train_dataset, batch_size=32, shuffle=True)\n",
    "valid_dataset = ChatDataset(\"../data/text_dataset/save_path/valid_pairs.csv\", tokenizer)\n",
    "valid_loader = DataLoader(valid_dataset, batch_size=32)"
   ]
  },
  {
   "cell_type": "markdown",
   "id": "dfbee78d",
   "metadata": {},
   "source": [
    "### LSTM + Attention 챗봇 학습\n",
    "1. 입력\n",
    " + model : Seq2Seq 모델(Encoder + Attention + Decoder)\n",
    " + dataloader : 학습 데이터 로더\n",
    " + tokenizer : 패딩 ID 확인용\n",
    " + num_epochs : 학습 epoch 수\n",
    " + lr : 학습률\n",
    "2. 동작\n",
    " + 모델 foward\n",
    " + output, target -> reshape\n",
    " + CrossEntropyLoss 계산\n",
    " + 역전파 + optimizer 업데이트\n",
    " + tqdm 진행 표시 및 평균 loss 출력"
   ]
  },
  {
   "cell_type": "code",
   "execution_count": 123,
   "id": "c316630e",
   "metadata": {},
   "outputs": [],
   "source": [
    "import torch\n",
    "import torch.nn as nn\n",
    "import torch.optim as optim\n",
    "from tqdm import tqdm"
   ]
  },
  {
   "cell_type": "code",
   "execution_count": 133,
   "id": "8733416e",
   "metadata": {},
   "outputs": [],
   "source": [
    "def train_model(model, dataloader, tokenizer, num_epochs=5, lr=1e-3, device=None):\n",
    "    device = device or (\"cuda\" if torch.cuda.is_available() else \"cpu\")\n",
    "    model = model.to(device)\n",
    "\n",
    "    # PAD 토큰 무시\n",
    "    pad_id = tokenizer.pad_id\n",
    "    criterion = nn.CrossEntropyLoss(ignore_index=pad_id)\n",
    "    optimizer = optim.Adam(model.parameters(), lr=lr)\n",
    "\n",
    "    model.train()\n",
    "\n",
    "    for epoch in range(num_epochs):\n",
    "        epoch_loss = 0\n",
    "        progress_bar = tqdm(dataloader, desc=f\"Epoch {epoch+1}/{num_epochs}\")\n",
    "\n",
    "        for src, trg in progress_bar:\n",
    "            src, trg = src.to(device), trg.to(device)\n",
    "            optimizer.zero_grad()\n",
    "\n",
    "            output = model(src, trg)\n",
    "            output_dim = output.shape[-1]\n",
    "\n",
    "            output = output[:, 1:].reshape(-1, output_dim)\n",
    "            trg = trg[:, 1:].reshape(-1)\n",
    "\n",
    "            loss = criterion(output, trg)\n",
    "            loss.backward()\n",
    "            optimizer.step()\n",
    "\n",
    "            epoch_loss += loss.item()\n",
    "            progress_bar.set_postfix(loss=loss.item())\n",
    "\n",
    "        print(f\"\\n[Epoch] {epoch+1} 평균 Loss: {epoch_loss / len(dataloader):.4f}\\n\")\n",
    "    \n",
    "    return model"
   ]
  },
  {
   "cell_type": "markdown",
   "id": "e4a1e4e6",
   "metadata": {},
   "source": [
    "### 모델 저장 및 평가"
   ]
  },
  {
   "cell_type": "code",
   "execution_count": 125,
   "id": "e14956fb",
   "metadata": {},
   "outputs": [],
   "source": [
    "def save_model(model, path='model/llm_model/chatbot_model.pt'):\n",
    "    torch.save(model.state_dict(), path)\n",
    "    print(f\"✅ 모델 저장 완료: {path}\")\n",
    "\n",
    "# 모델 불러오기\n",
    "def load_model(model, path='model/llm_model/chatbot_model.pt'):\n",
    "    model.load_state_dict(torch.load(path))\n",
    "    model.eval()\n",
    "    return model"
   ]
  },
  {
   "cell_type": "code",
   "execution_count": 126,
   "id": "d5cfe9bd",
   "metadata": {},
   "outputs": [],
   "source": [
    "from torch.nn.functional import softmax\n",
    "\n",
    "@torch.no_grad()\n",
    "def evalute_model(model, dataloader, tokenizer, device='cuda' if torch.cuda.is_available() else 'cpu'):\n",
    "    model.eval()\n",
    "    model.to(device)\n",
    "\n",
    "    for i, (src, trg) in enumerate(dataloader):\n",
    "        if i >= 5: break\n",
    "\n",
    "        src, trg = src.to(device), trg.to(device)\n",
    "\n",
    "        # infernce 모드\n",
    "        output = model(str, trg, teacher_forcing_ratio=0.0)\n",
    "        pred = output.argmax(dim=-1)\n",
    "\n",
    "        print(\"🟢 Input :\", tokenizer.decode(src[0].tolist()))\n",
    "        print(\"✅ Target :\", tokenizer.decode(trg[0].tolist()))\n",
    "        print(\"🤖 Output :\", tokenizer.decode(pred[0].tolist()))\n",
    "        print(\"-\"*60)"
   ]
  },
  {
   "cell_type": "code",
   "execution_count": 127,
   "id": "64dc7cc4",
   "metadata": {},
   "outputs": [],
   "source": [
    "def generate_reply(model, tokenizer, input_text, max_len=64, device='cuda' if torch.cuda.is_available() else 'cpu'):\n",
    "    model.eval()\n",
    "    model.to(device)\n",
    "\n",
    "    input_ids = tokenizer.encode(input_text)\n",
    "    input_ids = input_ids + [tokenizer.pad_id] * (max_len - len(input_ids))\n",
    "    src = torch.tensor(input_ids).unsqueeze(0).to(device) # batch=1\n",
    "\n",
    "    trg = torch.tensor([tokenizer.bos_id] + [tokenizer.pad_id] * (max_len -1)).unsqueeze(0).to(device)\n",
    "\n",
    "    with torch.no_grad():\n",
    "        output = model(src, trg, teacher_forcing_ratio=0.0)\n",
    "        pred_ids = output.argmax(dim=-1).squeeze().tolist()\n",
    "    \n",
    "    decoded = tokenizer.decode(pred_ids)\n",
    "    return decoded"
   ]
  },
  {
   "cell_type": "markdown",
   "id": "103b51e6",
   "metadata": {},
   "source": [
    "### 테스트"
   ]
  },
  {
   "cell_type": "code",
   "execution_count": 128,
   "id": "0ad873bb",
   "metadata": {},
   "outputs": [],
   "source": [
    "def interactive_chat(model, tokenizer, device='cuda' if torch.cuda.is_available() else 'cpu'):\n",
    "    print(\"🤖 챗봇 테스트 시작. 종료하려면 exit 입력.\")\n",
    "\n",
    "    while(True):\n",
    "        query = input(\"👤 사용자: \")\n",
    "        if query.strip().lower() in ['exit', 'quit', '종료']:\n",
    "            print(\"🔴 테스트 종료.\")\n",
    "            break\n",
    "        response = generate_reply(model, tokenizer, query, device=device)\n",
    "        print(\"🤖 챗봇: \", response)"
   ]
  },
  {
   "cell_type": "markdown",
   "id": "7ec93e35",
   "metadata": {},
   "source": [
    "### 전체 파이프라인"
   ]
  },
  {
   "cell_type": "code",
   "execution_count": 129,
   "id": "b9e178c2",
   "metadata": {},
   "outputs": [],
   "source": [
    "def full_pipeline(train_loader, valid_loader, tokenizer, model, num_epochs=5):\n",
    "    trained_model = train_model(model, train_loader, tokenizer, num_epochs=num_epochs)\n",
    "\n",
    "    save_model(trained_model, \"model/llm_model/chatbot_model.pt\")\n",
    "\n",
    "    evalute_model(trained_model, valid_loader, tokenizer)\n",
    "\n",
    "    interactive_chat(trained_model, tokenizer)"
   ]
  },
  {
   "cell_type": "markdown",
   "id": "942c66d5",
   "metadata": {},
   "source": [
    "### 학습 시작 및 모델 저장"
   ]
  },
  {
   "cell_type": "code",
   "execution_count": 135,
   "id": "7ffc2914",
   "metadata": {},
   "outputs": [
    {
     "name": "stderr",
     "output_type": "stream",
     "text": [
      "Epoch 1/5:   4%|▎         | 4179/115072 [2:08:27<56:48:47,  1.84s/it, loss=6.54]\n"
     ]
    },
    {
     "ename": "KeyboardInterrupt",
     "evalue": "",
     "output_type": "error",
     "traceback": [
      "\u001b[0;31m---------------------------------------------------------------------------\u001b[0m",
      "\u001b[0;31mKeyboardInterrupt\u001b[0m                         Traceback (most recent call last)",
      "Cell \u001b[0;32mIn[135], line 9\u001b[0m\n\u001b[1;32m      6\u001b[0m decoder \u001b[38;5;241m=\u001b[39m Decoder(vocab_size, embed_size, hidden_size)\n\u001b[1;32m      7\u001b[0m model \u001b[38;5;241m=\u001b[39m Seq2Seq(encoder, decoder, device\u001b[38;5;241m=\u001b[39m\u001b[38;5;124m\"\u001b[39m\u001b[38;5;124mcuda\u001b[39m\u001b[38;5;124m\"\u001b[39m \u001b[38;5;28;01mif\u001b[39;00m torch\u001b[38;5;241m.\u001b[39mcuda\u001b[38;5;241m.\u001b[39mis_available() \u001b[38;5;28;01melse\u001b[39;00m \u001b[38;5;124m\"\u001b[39m\u001b[38;5;124mcpu\u001b[39m\u001b[38;5;124m\"\u001b[39m)\n\u001b[0;32m----> 9\u001b[0m full_pipeline(train_loader, valid_loader, tokenizer, model, num_epochs\u001b[38;5;241m=\u001b[39m\u001b[38;5;241m5\u001b[39m)\n",
      "Cell \u001b[0;32mIn[129], line 2\u001b[0m, in \u001b[0;36mfull_pipeline\u001b[0;34m(train_loader, valid_loader, tokenizer, model, num_epochs)\u001b[0m\n\u001b[1;32m      1\u001b[0m \u001b[38;5;28;01mdef\u001b[39;00m \u001b[38;5;21mfull_pipeline\u001b[39m(train_loader, valid_loader, tokenizer, model, num_epochs\u001b[38;5;241m=\u001b[39m\u001b[38;5;241m5\u001b[39m):\n\u001b[0;32m----> 2\u001b[0m     trained_model \u001b[38;5;241m=\u001b[39m train_model(model, train_loader, tokenizer, num_epochs\u001b[38;5;241m=\u001b[39mnum_epochs)\n\u001b[1;32m      4\u001b[0m     save_model(trained_model, \u001b[38;5;124m\"\u001b[39m\u001b[38;5;124mmodel/llm_model/chatbot_model.pt\u001b[39m\u001b[38;5;124m\"\u001b[39m)\n\u001b[1;32m      6\u001b[0m     evalute_model(trained_model, valid_loader, tokenizer)\n",
      "Cell \u001b[0;32mIn[133], line 27\u001b[0m, in \u001b[0;36mtrain_model\u001b[0;34m(model, dataloader, tokenizer, num_epochs, lr, device)\u001b[0m\n\u001b[1;32m     24\u001b[0m trg \u001b[38;5;241m=\u001b[39m trg[:, \u001b[38;5;241m1\u001b[39m:]\u001b[38;5;241m.\u001b[39mreshape(\u001b[38;5;241m-\u001b[39m\u001b[38;5;241m1\u001b[39m)\n\u001b[1;32m     26\u001b[0m loss \u001b[38;5;241m=\u001b[39m criterion(output, trg)\n\u001b[0;32m---> 27\u001b[0m loss\u001b[38;5;241m.\u001b[39mbackward()\n\u001b[1;32m     28\u001b[0m optimizer\u001b[38;5;241m.\u001b[39mstep()\n\u001b[1;32m     30\u001b[0m epoch_loss \u001b[38;5;241m+\u001b[39m\u001b[38;5;241m=\u001b[39m loss\u001b[38;5;241m.\u001b[39mitem()\n",
      "File \u001b[0;32m/opt/anaconda3/envs/dl_study/lib/python3.11/site-packages/torch/_tensor.py:492\u001b[0m, in \u001b[0;36mTensor.backward\u001b[0;34m(self, gradient, retain_graph, create_graph, inputs)\u001b[0m\n\u001b[1;32m    482\u001b[0m \u001b[38;5;28;01mif\u001b[39;00m has_torch_function_unary(\u001b[38;5;28mself\u001b[39m):\n\u001b[1;32m    483\u001b[0m     \u001b[38;5;28;01mreturn\u001b[39;00m handle_torch_function(\n\u001b[1;32m    484\u001b[0m         Tensor\u001b[38;5;241m.\u001b[39mbackward,\n\u001b[1;32m    485\u001b[0m         (\u001b[38;5;28mself\u001b[39m,),\n\u001b[0;32m   (...)\u001b[0m\n\u001b[1;32m    490\u001b[0m         inputs\u001b[38;5;241m=\u001b[39minputs,\n\u001b[1;32m    491\u001b[0m     )\n\u001b[0;32m--> 492\u001b[0m torch\u001b[38;5;241m.\u001b[39mautograd\u001b[38;5;241m.\u001b[39mbackward(\n\u001b[1;32m    493\u001b[0m     \u001b[38;5;28mself\u001b[39m, gradient, retain_graph, create_graph, inputs\u001b[38;5;241m=\u001b[39minputs\n\u001b[1;32m    494\u001b[0m )\n",
      "File \u001b[0;32m/opt/anaconda3/envs/dl_study/lib/python3.11/site-packages/torch/autograd/__init__.py:251\u001b[0m, in \u001b[0;36mbackward\u001b[0;34m(tensors, grad_tensors, retain_graph, create_graph, grad_variables, inputs)\u001b[0m\n\u001b[1;32m    246\u001b[0m     retain_graph \u001b[38;5;241m=\u001b[39m create_graph\n\u001b[1;32m    248\u001b[0m \u001b[38;5;66;03m# The reason we repeat the same comment below is that\u001b[39;00m\n\u001b[1;32m    249\u001b[0m \u001b[38;5;66;03m# some Python versions print out the first line of a multi-line function\u001b[39;00m\n\u001b[1;32m    250\u001b[0m \u001b[38;5;66;03m# calls in the traceback and some print out the last line\u001b[39;00m\n\u001b[0;32m--> 251\u001b[0m Variable\u001b[38;5;241m.\u001b[39m_execution_engine\u001b[38;5;241m.\u001b[39mrun_backward(  \u001b[38;5;66;03m# Calls into the C++ engine to run the backward pass\u001b[39;00m\n\u001b[1;32m    252\u001b[0m     tensors,\n\u001b[1;32m    253\u001b[0m     grad_tensors_,\n\u001b[1;32m    254\u001b[0m     retain_graph,\n\u001b[1;32m    255\u001b[0m     create_graph,\n\u001b[1;32m    256\u001b[0m     inputs,\n\u001b[1;32m    257\u001b[0m     allow_unreachable\u001b[38;5;241m=\u001b[39m\u001b[38;5;28;01mTrue\u001b[39;00m,\n\u001b[1;32m    258\u001b[0m     accumulate_grad\u001b[38;5;241m=\u001b[39m\u001b[38;5;28;01mTrue\u001b[39;00m,\n\u001b[1;32m    259\u001b[0m )\n",
      "\u001b[0;31mKeyboardInterrupt\u001b[0m: "
     ]
    }
   ],
   "source": [
    "vocab_size = tokenizer.vacab_size()\n",
    "embed_size = 256\n",
    "hidden_size = 512\n",
    "\n",
    "encoder = Encoder(vocab_size, embed_size, hidden_size)\n",
    "decoder = Decoder(vocab_size, embed_size, hidden_size)\n",
    "model = Seq2Seq(encoder, decoder, device=\"cuda\" if torch.cuda.is_available() else \"cpu\")\n",
    "\n",
    "full_pipeline(train_loader, valid_loader, tokenizer, model, num_epochs=5)"
   ]
  }
 ],
 "metadata": {
  "kernelspec": {
   "display_name": "dl_study",
   "language": "python",
   "name": "python3"
  },
  "language_info": {
   "codemirror_mode": {
    "name": "ipython",
    "version": 3
   },
   "file_extension": ".py",
   "mimetype": "text/x-python",
   "name": "python",
   "nbconvert_exporter": "python",
   "pygments_lexer": "ipython3",
   "version": "3.11.3"
  }
 },
 "nbformat": 4,
 "nbformat_minor": 5
}
