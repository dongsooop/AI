{
 "cells": [
  {
   "cell_type": "code",
   "execution_count": 4,
   "id": "72895453",
   "metadata": {},
   "outputs": [],
   "source": [
    "from sentence_transformers import SentenceTransformer\n",
    "import pandas as pd\n",
    "\n",
    "# 모델 로드 (한국어 SBERT)\n",
    "model = SentenceTransformer(\"snunlp/KR-SBERT-V40K-klueNLI-augSTS\")\n",
    "\n",
    "# CSV 로드\n",
    "df = pd.read_csv(\"../data/school_info/dmu_menu_urls.csv\")\n",
    "titles = df['title'].tolist()\n",
    "urls = df['url'].tolist()\n",
    "\n",
    "# 타이틀 임베딩\n",
    "title_vectors = model.encode(titles, convert_to_tensor=True)"
   ]
  },
  {
   "cell_type": "code",
   "execution_count": 5,
   "id": "d6b7b748",
   "metadata": {},
   "outputs": [],
   "source": [
    "from sklearn.metrics.pairwise import cosine_similarity\n",
    "import torch\n",
    "\n",
    "def find_best_url(query, top_k=1):\n",
    "    query_vec = model.encode([query], convert_to_tensor=True)\n",
    "    scores = cosine_similarity(query_vec.cpu().numpy(), title_vectors.cpu().numpy())[0]\n",
    "    top_idx = scores.argsort()[-top_k:][::-1]\n",
    "    results = [(titles[i], urls[i], scores[i]) for i in top_idx]\n",
    "    return results"
   ]
  },
  {
   "cell_type": "code",
   "execution_count": 6,
   "id": "f9c9b834",
   "metadata": {},
   "outputs": [
    {
     "name": "stdout",
     "output_type": "stream",
     "text": [
      "📌 관련 메뉴: 대학생활/경영학부\n",
      "👉 링크: https://www.dongyang.ac.kr/dmu/4873/subview.do\n"
     ]
    }
   ],
   "source": [
    "query = \"경영학부 사이트 알려줘\"\n",
    "result = find_best_url(query)[0]\n",
    "\n",
    "print(f\"📌 관련 메뉴: {result[0]}\")\n",
    "print(f\"👉 링크: {result[1]}\")"
   ]
  }
 ],
 "metadata": {
  "kernelspec": {
   "display_name": "dl_study",
   "language": "python",
   "name": "python3"
  },
  "language_info": {
   "codemirror_mode": {
    "name": "ipython",
    "version": 3
   },
   "file_extension": ".py",
   "mimetype": "text/x-python",
   "name": "python",
   "nbconvert_exporter": "python",
   "pygments_lexer": "ipython3",
   "version": "3.11.3"
  }
 },
 "nbformat": 4,
 "nbformat_minor": 5
}
