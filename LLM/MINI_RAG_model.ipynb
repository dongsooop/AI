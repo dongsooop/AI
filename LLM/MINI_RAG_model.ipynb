{
 "cells": [
  {
   "cell_type": "code",
   "execution_count": 88,
   "id": "72895453",
   "metadata": {},
   "outputs": [],
   "source": [
    "from sentence_transformers import SentenceTransformer\n",
    "import pandas as pd\n",
    "\n",
    "# 모델 로드 (한국어 SBERT)\n",
    "model = SentenceTransformer(\"snunlp/KR-SBERT-V40K-klueNLI-augSTS\")\n",
    "\n",
    "# CSV 로드\n",
    "df = pd.read_csv(\"../data/school_info/dmu_menu_urls.csv\")\n",
    "titles = df['title'].tolist()\n",
    "urls = df['url'].tolist()\n",
    "\n",
    "# 타이틀 임베딩\n",
    "title_vectors = model.encode(titles, convert_to_tensor=True)"
   ]
  },
  {
   "cell_type": "code",
   "execution_count": 89,
   "id": "d6b7b748",
   "metadata": {},
   "outputs": [],
   "source": [
    "from sklearn.metrics.pairwise import cosine_similarity\n",
    "import torch\n",
    "\n",
    "def find_best_url(query, top_k=1):\n",
    "    query_vec = model.encode([query], convert_to_tensor=True)\n",
    "    scores = cosine_similarity(query_vec.cpu().numpy(), title_vectors.cpu().numpy())[0]\n",
    "    top_idx = scores.argsort()[-top_k:][::-1]\n",
    "    results = [(titles[i], urls[i], scores[i]) for i in top_idx]\n",
    "    return results"
   ]
  },
  {
   "cell_type": "code",
   "execution_count": 90,
   "id": "f9c9b834",
   "metadata": {},
   "outputs": [
    {
     "name": "stdout",
     "output_type": "stream",
     "text": [
      "📌 관련 메뉴: 대학생활/경영학부\n",
      "👉 링크: https://www.dongyang.ac.kr/dmu/4873/subview.do\n"
     ]
    }
   ],
   "source": [
    "query = \"경영학부 사이트 알려줘\"\n",
    "result = find_best_url(query)[0]\n",
    "\n",
    "print(f\"📌 관련 메뉴: {result[0]}\")\n",
    "print(f\"👉 링크: {result[1]}\")"
   ]
  },
  {
   "cell_type": "code",
   "execution_count": 91,
   "id": "82140292",
   "metadata": {},
   "outputs": [],
   "source": [
    "from sentence_transformers import SentenceTransformer\n",
    "import pandas as pd\n",
    "\n",
    "df = pd.read_csv(\"../data/school_info/dmu_menu_with_text.csv\")\n",
    "cols = [\"title\", \"url\", \"content\"]\n",
    "df = df.dropna(subset=[\"content\"])  # 본문 없는 경우 제외\n",
    "df[\"combined_text\"] = df[\"title\"].fillna(\"\") + \"\\n\" + df[\"content\"].fillna(\"\")\n",
    "\n",
    "\n",
    "model = SentenceTransformer(\"jhgan/ko-sroberta-multitask\")  # 호환 안정 모델\n",
    "\n",
    "combined_embeddings = model.encode(df[\"combined_text\"].tolist(), convert_to_tensor=True)\n"
   ]
  },
  {
   "cell_type": "code",
   "execution_count": 92,
   "id": "f1de53f3",
   "metadata": {},
   "outputs": [
    {
     "name": "stdout",
     "output_type": "stream",
     "text": [
      "✅ 학부ㆍ학과/경영학과 (0.7246)\n",
      "👉 https://www.dongyang.ac.kr/dmu/4670/subview.do\n",
      "\n",
      "✅ 학부ㆍ학과/경영정보학과 (0.6771)\n",
      "👉 https://www.dongyang.ac.kr/dmu/4712/subview.do\n",
      "\n",
      "✅ 학부ㆍ학과/학부소개 (0.6608)\n",
      "👉 https://www.dongyang.ac.kr/dmu/4669/subview.do\n",
      "\n"
     ]
    }
   ],
   "source": [
    "from sklearn.metrics.pairwise import cosine_similarity\n",
    "import torch\n",
    "\n",
    "def search_url(query, top_k=3):\n",
    "    q_emb = model.encode([query], convert_to_tensor=True)\n",
    "    scores = cosine_similarity(q_emb.cpu().numpy(), combined_embeddings.cpu().numpy())[0]\n",
    "    top_idx = scores.argsort()[-top_k:][::-1]\n",
    "    return [(df.iloc[i][\"title\"], df.iloc[i][\"url\"], scores[i]) for i in top_idx]\n",
    "\n",
    "for title, url, score in search_url(\"경영학부주임연락처\", top_k=3):\n",
    "    print(f\"✅ {title} ({score:.4f})\\n👉 {url}\\n\")"
   ]
  },
  {
   "cell_type": "code",
   "execution_count": 93,
   "id": "f13cd0c5",
   "metadata": {},
   "outputs": [],
   "source": [
    "import re\n",
    "\n",
    "# 데이터 불러오기\n",
    "df = pd.read_csv(\"../data/school_info/dmu_menu_with_text.csv\")\n",
    "\n",
    "# title과 text를 결합해서 문맥을 풍부하게 만듦\n",
    "df['fulltext'] = df['title'] + \" \" + df['content']\n",
    "\n",
    "# 문장 임베딩\n",
    "content_embeddings = model.encode(df['fulltext'].tolist(), convert_to_tensor=True)\n",
    "\n",
    "from sklearn.metrics.pairwise import cosine_similarity\n",
    "\n",
    "def find_best_answer(query, top_k=3):\n",
    "    query_embedding = model.encode([query], convert_to_tensor=True)\n",
    "    scores = cosine_similarity(query_embedding.cpu().numpy(), content_embeddings.cpu().numpy())[0]\n",
    "    top_idx = scores.argsort()[-top_k:][::-1]\n",
    "    return df.iloc[top_idx]\n",
    "\n",
    "def extract_contact_info(text):\n",
    "    tel = re.search(r'(?:TEL\\.?|전화(?:번호)?)[^\\d]*(\\d{2,4}[-\\s]?\\d{3,4}[-\\s]?\\d{4})', text)\n",
    "    email = re.search(r'(?:E[-]?mail|이메일)[^\\w]*([\\w\\.-]+@[\\w\\.-]+)', text)\n",
    "    return {\n",
    "        '전화번호': tel.group(1) if tel else '없음',\n",
    "        '이메일': email.group(1) if email else '없음'\n",
    "    }"
   ]
  },
  {
   "cell_type": "code",
   "execution_count": 95,
   "id": "210b6f99",
   "metadata": {},
   "outputs": [
    {
     "name": "stdout",
     "output_type": "stream",
     "text": [
      "✅ 제목: 대학소개/학생활동지원팀\n",
      "📞 전화번호: 02-2618-2300\n",
      "📧 이메일: 없음\n",
      "👉 링크: https://www.dongyang.ac.kr/dmu/4375/subview.do\n",
      "\n",
      "✅ 제목: 대학소개/학생처\n",
      "📞 전화번호: 02-2618-2300\n",
      "📧 이메일: 없음\n",
      "👉 링크: https://www.dongyang.ac.kr/dmu/4375/subview.do\n",
      "\n",
      "✅ 제목: 대학소개/교육지원팀\n",
      "📞 전화번호: 02-2610-1711\n",
      "📧 이메일: 없음\n",
      "👉 링크: https://www.dongyang.ac.kr/dmu/4365/subview.do\n",
      "\n"
     ]
    }
   ],
   "source": [
    "query = \"학생성공지원\"\n",
    "results = find_best_answer(query)\n",
    "\n",
    "for _, row in results.iterrows():\n",
    "    contact = extract_contact_info(row['fulltext'])\n",
    "    print(f\"✅ 제목: {row['title']}\")\n",
    "    print(f\"📞 전화번호: {contact['전화번호']}\")\n",
    "    print(f\"📧 이메일: {contact['이메일']}\")\n",
    "    print(f\"👉 링크: {row['url']}\\n\")"
   ]
  }
 ],
 "metadata": {
  "kernelspec": {
   "display_name": "dl_study",
   "language": "python",
   "name": "python3"
  },
  "language_info": {
   "codemirror_mode": {
    "name": "ipython",
    "version": 3
   },
   "file_extension": ".py",
   "mimetype": "text/x-python",
   "name": "python",
   "nbconvert_exporter": "python",
   "pygments_lexer": "ipython3",
   "version": "3.11.3"
  }
 },
 "nbformat": 4,
 "nbformat_minor": 5
}
